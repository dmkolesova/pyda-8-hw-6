{
 "cells": [
  {
   "cell_type": "markdown",
   "metadata": {},
   "source": [
    "# Домашнее задание\n",
    "1. Переведите содержимое файла purchase_log.txt в словарь purchases вида:\n",
    "```python\n",
    "{'1840e0b9d4': 'Продукты', ...}\n",
    "```\n",
    "\n",
    "2. Для каждого user_id в файле visit_log.csv добавьте третий столбец с категорией покупки (если покупка была).\n",
    "\n",
    "3. Запишите в файл funnel.csv визиты из файла visit_log.csv, в которых были покупки с указанием категории.\n",
    "\n",
    "Учтите условия на данные:\n",
    "- содержимое purchase_log.txt помещается в оперативную память компьютера\n",
    "- содержимое visit_log.csv - нет; используйте только построчную обработку этого файла"
   ]
  },
  {
   "cell_type": "code",
   "execution_count": 1,
   "metadata": {},
   "outputs": [],
   "source": [
    "import json"
   ]
  },
  {
   "cell_type": "markdown",
   "metadata": {},
   "source": [
    "### 1-ое задание"
   ]
  },
  {
   "cell_type": "code",
   "execution_count": 2,
   "metadata": {},
   "outputs": [],
   "source": [
    "def number_of_lines_in_file(file):\n",
    "    f = open(file, 'r')\n",
    "    number_of_lines = sum(1 for line in f)\n",
    "    f.close()\n",
    "    return int(number_of_lines)"
   ]
  },
  {
   "cell_type": "code",
   "execution_count": 3,
   "metadata": {},
   "outputs": [],
   "source": [
    "def convert_log_to_dict(log_file, number_of_records=number_of_lines_in_file('purchase_log.txt')-1):\n",
    "    purchase_dict = {}\n",
    "    with open(log_file, encoding='utf-8') as f:\n",
    "        next(f)\n",
    "        for i in range(number_of_records):\n",
    "            current_line = next(f)\n",
    "            purchase_dict[json.loads(current_line.strip())['user_id']] = json.loads(current_line.strip())['category']\n",
    "            i += 1\n",
    "    return purchase_dict"
   ]
  },
  {
   "cell_type": "code",
   "execution_count": 11,
   "metadata": {
    "scrolled": true
   },
   "outputs": [],
   "source": [
    "converted_purchase_log = convert_log_to_dict('purchase_log.txt')"
   ]
  },
  {
   "cell_type": "markdown",
   "metadata": {},
   "source": [
    "### 2-ое задание"
   ]
  },
  {
   "cell_type": "code",
   "execution_count": 39,
   "metadata": {},
   "outputs": [],
   "source": [
    "def create_new_file_with_visits_and_purchase(visit_file, purchase_file):\n",
    "    with open(visit_file, 'r') as f:\n",
    "        with open('visit_log_with_purchasing.csv', 'w') as out:\n",
    "            out.write(next(f).strip() + ',purchase\\n')\n",
    "            for line in f:\n",
    "                current_line = line\n",
    "                if current_line.strip().split(',')[0] in purchase_file.keys():\n",
    "                    out.write(current_line.strip()+','+purchase_file[current_line.strip().split(',')[0]]+'\\n')\n",
    "                else:\n",
    "                    out.write(current_line.strip() + ',no purchase\\n')\n",
    "    return 'visit_log_with_purchasing.csv'"
   ]
  },
  {
   "cell_type": "code",
   "execution_count": 40,
   "metadata": {},
   "outputs": [
    {
     "data": {
      "text/plain": [
       "'visit_log_with_purchasing.csv'"
      ]
     },
     "execution_count": 40,
     "metadata": {},
     "output_type": "execute_result"
    }
   ],
   "source": [
    "create_new_file_with_visits_and_purchase('visit_log.csv', convert_log_to_dict('purchase_log.txt'))"
   ]
  },
  {
   "cell_type": "markdown",
   "metadata": {},
   "source": [
    "### 3-ье задание"
   ]
  },
  {
   "cell_type": "code",
   "execution_count": 50,
   "metadata": {},
   "outputs": [],
   "source": [
    "def create_new_file_with_purchased_visits_only(visit_file, purchase_file):\n",
    "    with open(create_new_file_with_visits_and_purchase(visit_file, convert_log_to_dict(purchase_file)), 'r') as f:\n",
    "        with open('funnel.csv', 'w') as out:\n",
    "            for line in f:\n",
    "                current_line = line\n",
    "                if current_line.strip().split(',')[2] != 'no purchase':\n",
    "                    out.write(current_line)\n",
    "    return 'funnel.csv'"
   ]
  },
  {
   "cell_type": "code",
   "execution_count": 51,
   "metadata": {},
   "outputs": [
    {
     "data": {
      "text/plain": [
       "'funnel.csv'"
      ]
     },
     "execution_count": 51,
     "metadata": {},
     "output_type": "execute_result"
    }
   ],
   "source": [
    "create_new_file_with_purchased_visits_only('visit_log.csv', 'purchase_log.txt')"
   ]
  }
 ],
 "metadata": {
  "kernelspec": {
   "display_name": "Python 3",
   "language": "python",
   "name": "python3"
  },
  "language_info": {
   "codemirror_mode": {
    "name": "ipython",
    "version": 3
   },
   "file_extension": ".py",
   "mimetype": "text/x-python",
   "name": "python",
   "nbconvert_exporter": "python",
   "pygments_lexer": "ipython3",
   "version": "3.7.4"
  }
 },
 "nbformat": 4,
 "nbformat_minor": 2
}
